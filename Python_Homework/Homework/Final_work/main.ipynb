{
 "cells": [
  {
   "cell_type": "markdown",
   "id": "0a29fd11",
   "metadata": {},
   "source": [
    "# f(x) = -12x^4*sin(cos(x)) - 18x^3+5x^2 + 10x - 30\n",
    "\n",
    "Определить корни\n",
    "\n",
    "Найти интервалы, на которых функция возрастает\n",
    "\n",
    "Найти интервалы, на которых функция убывает\n",
    "\n",
    "Построить график\n",
    "\n",
    "Вычислить вершину\n",
    "\n",
    "Определить промежутки, на котором f > 0\n",
    "\n",
    "Определить промежутки, на котором f < 0"
   ]
  },
  {
   "cell_type": "code",
   "execution_count": 1,
   "id": "59c27796",
   "metadata": {},
   "outputs": [],
   "source": [
    "import numpy as np\n",
    "import matplotlib.pyplot as plt"
   ]
  },
  {
   "cell_type": "code",
   "execution_count": 2,
   "id": "8b9d1c16",
   "metadata": {},
   "outputs": [],
   "source": [
    "a, b, c, d, e = -12, -18, 5, 10, -30\n",
    "limit = 10\n",
    "step = 0.1\n",
    "step_acr = 0.000001\n",
    "line_style = '-'\n",
    "color = 'b'\n",
    "direct_up = True"
   ]
  },
  {
   "cell_type": "code",
   "execution_count": 3,
   "id": "54ad2460",
   "metadata": {},
   "outputs": [],
   "source": [
    "def switch_line():\n",
    "    global line_style\n",
    "    if line_style == '-':\n",
    "        line_style = '--'  \n",
    "    else:\n",
    "        line_style = '-'\n",
    "    return line_style  "
   ]
  },
  {
   "cell_type": "code",
   "execution_count": 4,
   "id": "8efb9b37",
   "metadata": {},
   "outputs": [],
   "source": [
    "def switch_color():\n",
    "    global color\n",
    "    if color == 'b':\n",
    "        color = 'r'\n",
    "    else:\n",
    "        color = 'b'\n",
    "    return color"
   ]
  },
  {
   "cell_type": "code",
   "execution_count": 5,
   "id": "481230ce",
   "metadata": {},
   "outputs": [],
   "source": [
    "def func(x):\n",
    "    f = a*x**4*np.sin(np.cos(x)) + b*x**3 + c*x**2 + d*x + e\n",
    "    return f"
   ]
  },
  {
   "cell_type": "code",
   "execution_count": 6,
   "id": "66399835",
   "metadata": {},
   "outputs": [],
   "source": [
    "x = np.arange(-limit, limit + step, step)\n"
   ]
  },
  {
   "cell_type": "code",
   "execution_count": 7,
   "id": "3d513269",
   "metadata": {},
   "outputs": [],
   "source": [
    "x_chenge = [(-limit, 'limit')]"
   ]
  },
  {
   "cell_type": "code",
   "execution_count": 8,
   "id": "108425c0",
   "metadata": {},
   "outputs": [],
   "source": [
    "for i in range(len(x) - 1):\n",
    "    if func(x[i]) > 0 and func(x[i+1]) < 0 or func(x[i]) < 0 and func(x[i+1]) > 0:\n",
    "        x_acr = np.arange(x[i], x[i+1] + step_acr, step_acr)\n",
    "        for j in range(len(x_acr) - 1):\n",
    "            if func(x_acr[j]) > 0 and func(x_acr[j+1]) < 0 or func(x_acr[j]) < 0 and func(x_acr[j+1]) > 0:\n",
    "                x_chenge.append((x_acr[j], 'zero'))\n",
    "    if direct_up:\n",
    "        if func(x[i]) > func(x[i+1]):\n",
    "            direct_up = False\n",
    "            x_chenge.append((x[i], 'top'))\n",
    "    else:\n",
    "        if func(x[i]) < func(x[i+1]):\n",
    "            direct_up = True\n",
    "            x_chenge.append((x[i], 'dir'))"
   ]
  },
  {
   "cell_type": "code",
   "execution_count": 9,
   "id": "9949fc55",
   "metadata": {},
   "outputs": [],
   "source": [
    "x_chenge.append((limit, 'limit'))"
   ]
  },
  {
   "cell_type": "code",
   "execution_count": 10,
   "id": "b1f2b31f",
   "metadata": {},
   "outputs": [
    {
     "data": {
      "image/png": "[encoded data removed]",
      "text/plain": [
       "<Figure size 640x480 with 1 Axes>"
      ]
     },
     "metadata": {},
     "output_type": "display_data"
    }
   ],
   "source": [
    "plt.grid() \n",
    "for i in range(len(x_chenge) -1):    \n",
    "    cur_x = np.arange(x_chenge[i][0], x_chenge[i+1][0] + step, step)       \n",
    "    if x_chenge[i][1] == 'zero':\n",
    "       plt.plot(x_chenge[i][0], func(x_chenge[i][0]), 'go') \n",
    "       plt.rcParams['lines.linestyle'] = switch_line()       \n",
    "       plt.plot(cur_x, func(cur_x), color)\n",
    "    else:        \n",
    "        plt.plot(cur_x, func(cur_x), switch_color())               "
   ]
  },
  {
   "cell_type": "code",
   "execution_count": 11,
   "id": "1736e6ac",
   "metadata": {},
   "outputs": [
    {
     "name": "stdout",
     "output_type": "stream",
     "text": [
      "[(-10, 'limit'), (-10.0, 'top'), (-7.650622999993106, 'zero'), (-6.800000000000011, 'dir'), (-5.026865999989795, 'zero'), (-4.200000000000021, 'top'), (-1.3389670000050515, 'zero'), (-0.4000000000000341, 'dir'), (0.4999999999999627, 'top'), (1.6999999999999584, 'dir'), (2.2730560000101683, 'zero'), (3.799999999999951, 'top'), (4.383523000011624, 'zero'), (6.99999999999994, 'dir'), (8.03516399997362, 'zero'), (9.899999999999928, 'top'), (10, 'limit')]\n"
     ]
    }
   ],
   "source": [
    "print(x_chenge)"
   ]
  },
  {
   "cell_type": "markdown",
   "id": "e826adbb",
   "metadata": {},
   "source": [
    "# Функция имеет бесконечное множество корней"
   ]
  },
  {
   "cell_type": "markdown",
   "id": "5aec8e61",
   "metadata": {},
   "source": [
    "### При лимите от -10 до 10:"
   ]
  },
  {
   "cell_type": "code",
   "execution_count": 12,
   "id": "94d19d79",
   "metadata": {},
   "outputs": [
    {
     "name": "stdout",
     "output_type": "stream",
     "text": [
      "Корни: , -7.651, -5.027, -1.339, 2.273, 4.384, 8.035\n"
     ]
    }
   ],
   "source": [
    "print('Корни: ', *[round(i, 3) for i, j in x_chenge if j == 'zero'], sep = ', ')"
   ]
  },
  {
   "cell_type": "code",
   "execution_count": 13,
   "id": "d43ee6b7",
   "metadata": {},
   "outputs": [
    {
     "name": "stdout",
     "output_type": "stream",
     "text": [
      "Вершины: , -10.0, -6.8, -4.2, -0.4, 0.5, 1.7, 3.8, 7.0, 9.9\n"
     ]
    }
   ],
   "source": [
    "print('Вершины: ', *[round(i, 3) for i, j in x_chenge if j == 'dir' or j == 'top'], sep = ', ')"
   ]
  },
  {
   "cell_type": "code",
   "execution_count": 14,
   "id": "6e4d4540",
   "metadata": {},
   "outputs": [
    {
     "name": "stdout",
     "output_type": "stream",
     "text": [
      "Интервалы, на которых функция убывает: , (-10.0, -6.8), (-4.2, -0.4), (0.5, 1.7), (3.8, 7.0)\n"
     ]
    }
   ],
   "source": [
    "v = list(round(i, 3) for i, j in x_chenge if j == 'top')\n",
    "n = list(round(i, 3) for i, j in x_chenge if j == 'dir')\n",
    "print('Интервалы, на которых функция убывает: ',  *[(x,y) for x, y in zip(v, n)], sep = ', ')"
   ]
  },
  {
   "cell_type": "code",
   "execution_count": 15,
   "id": "1a1eab9a",
   "metadata": {},
   "outputs": [
    {
     "name": "stdout",
     "output_type": "stream",
     "text": [
      "Интервалы, на которых функция возрастает: , (-6.8, -4.2), (-0.4, 0.5), (1.7, 3.8), (7.0, 9.9)\n"
     ]
    }
   ],
   "source": [
    "print('Интервалы, на которых функция возрастает: ',  *[(x,y) for x, y in zip(n, v[1::1])], sep = ', ')"
   ]
  },
  {
   "cell_type": "code",
   "execution_count": 24,
   "id": "ac9bcd63",
   "metadata": {},
   "outputs": [
    {
     "name": "stdout",
     "output_type": "stream",
     "text": [
      "Промежутки, где f > 0: , (-10.0, -7.651), (-5.027, -4.2), (-4.2, -1.339), (2.273, 3.8), (3.8, 4.384), (8.035, 9.9)\n",
      "\n",
      "Промежутки, где f < 0: , (-7.651, -6.8), (-6.8, -5.027), (-1.339, -0.4), (-0.4, 0.5), (0.5, 1.7), (1.7, 2.273), (4.384, 7.0), (7.0, 8.035)\n"
     ]
    }
   ],
   "source": [
    "v_ap = [round(i, 3) for i, j in x_chenge if j != 'limit']\n",
    "print('Промежутки, где f > 0: ', *[(v_ap[i], v_ap[i+1]) for i in range(len(v_ap) - 1) if (func(v_ap[i]) + func(v_ap[i+1]))/2 > 0], sep = ', ')\n",
    "print()\n",
    "print('Промежутки, где f < 0: ', *[(v_ap[i], v_ap[i+1]) for i in range(len(v_ap) - 1) if (func(v_ap[i]) + func(v_ap[i+1]))/2 < 0], sep = ', ')"
   ]
  }
 ],
 "metadata": {
  "kernelspec": {
   "display_name": "Python 3 (ipykernel)",
   "language": "python",
   "name": "python3"
  },
  "language_info": {
   "codemirror_mode": {
    "name": "ipython",
    "version": 3
   },
   "file_extension": ".py",
   "mimetype": "text/x-python",
   "name": "python",
   "nbconvert_exporter": "python",
   "pygments_lexer": "ipython3",
   "version": "3.10.10"
  },
  "vscode": {
   "interpreter": {
    "hash": "466a79afe276f356d7cf60e2305144ac65e01d042f7f8dccb534cca52fba5ef6"
   }
  }
 },
 "nbformat": 4,
 "nbformat_minor": 5
}
